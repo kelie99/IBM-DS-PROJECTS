{
 "cells": [
  {
   "cell_type": "markdown",
   "id": "09704e04-05a1-4b6a-ad8b-8b4ac32e854c",
   "metadata": {},
   "source": [
    "# Data Science Tools and Ecosystem"
   ]
  },
  {
   "cell_type": "markdown",
   "id": "30281531-6977-4c58-b852-8f55e8984297",
   "metadata": {},
   "source": [
    "In this notebook, Data Science Tools and Ecosystem are summarized."
   ]
  },
  {
   "cell_type": "markdown",
   "id": "6f8ff38d-b396-4e00-a817-89318eeacbf2",
   "metadata": {},
   "source": [
    "**Objectives:** The objective of this notebook is to :\n",
    "\n",
    "* List popular languages for Data Science.\n",
    "* List commonly used libraries by Data Science.\n",
    "* List some Data Science Tools.\n",
    "* Perform simple arithmetic with Python"
   ]
  },
  {
   "cell_type": "markdown",
   "id": "7b55ad06-dbfe-4d01-956f-eae6b62c0cf8",
   "metadata": {},
   "source": [
    "Some of the popular languages that Data Scientists used are:\n",
    "\n",
    "1. R Language\n",
    "2. Python Language\n",
    "3. SQL\n",
    "4. Julia\n",
    "5. Scala"
   ]
  },
  {
   "cell_type": "markdown",
   "id": "5b9b8216-089c-4a8f-9396-f1499d48bc89",
   "metadata": {},
   "source": [
    "Some of the commonly used libraries used by Data Scientists include:\n",
    "\n",
    "1. pandas\n",
    "2. numpy\n",
    "3. ggplot\n",
    "4. caret\n",
    "5. scikit-learn"
   ]
  },
  {
   "cell_type": "markdown",
   "id": "b6b20ba1-8225-4cc2-87e2-7a80842b6c76",
   "metadata": {},
   "source": [
    "The table below contains some Data Scientist tools\n",
    "\n",
    "|     Data Science Tools         |\n",
    "|--------------------------------|\n",
    "|        Jupyter Notebook        |\n",
    "|          RStudio               |\n",
    "|         VS Code                |"
   ]
  },
  {
   "cell_type": "markdown",
   "id": "a6338abc-7ef0-487e-a5c2-7b2e2b2fff56",
   "metadata": {},
   "source": [
    "### Below are a few examples for evaluating arithmetic expressions in Python."
   ]
  },
  {
   "cell_type": "code",
   "execution_count": 1,
   "id": "23f081f2-a130-43d0-9d05-ac6680330c1e",
   "metadata": {},
   "outputs": [
    {
     "data": {
      "text/plain": [
       "17"
      ]
     },
     "execution_count": 1,
     "metadata": {},
     "output_type": "execute_result"
    }
   ],
   "source": [
    "#this expression mutliply and then add integers\n",
    "(3*4)+5"
   ]
  },
  {
   "cell_type": "code",
   "execution_count": 2,
   "id": "0fd52515-6fe8-4a41-b1fe-ef041580f925",
   "metadata": {},
   "outputs": [
    {
     "data": {
      "text/plain": [
       "3.3333333333333335"
      ]
     },
     "execution_count": 2,
     "metadata": {},
     "output_type": "execute_result"
    }
   ],
   "source": [
    "#this computation converts 200 minutes into hours by dividing by 60\n",
    "200/60"
   ]
  },
  {
   "cell_type": "markdown",
   "id": "f654e2cb-2aaa-499d-83c4-2d457d573009",
   "metadata": {},
   "source": [
    "## Author\n",
    "Kelie Nizegha Momo Nizegha"
   ]
  }
 ],
 "metadata": {
  "kernelspec": {
   "display_name": "Python 3 (ipykernel)",
   "language": "python",
   "name": "python3"
  },
  "language_info": {
   "codemirror_mode": {
    "name": "ipython",
    "version": 3
   },
   "file_extension": ".py",
   "mimetype": "text/x-python",
   "name": "python",
   "nbconvert_exporter": "python",
   "pygments_lexer": "ipython3",
   "version": "3.12.7"
  }
 },
 "nbformat": 4,
 "nbformat_minor": 5
}
